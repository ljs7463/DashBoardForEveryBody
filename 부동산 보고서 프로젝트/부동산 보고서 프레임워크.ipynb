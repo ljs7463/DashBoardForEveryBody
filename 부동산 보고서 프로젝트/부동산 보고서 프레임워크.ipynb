{
 "cells": [
  {
   "cell_type": "code",
   "execution_count": null,
   "id": "eabf83fa",
   "metadata": {
    "scrolled": true
   },
   "outputs": [],
   "source": [
    "# !pip install pygwalker"
   ]
  },
  {
   "cell_type": "code",
   "execution_count": null,
   "id": "a1f44982",
   "metadata": {},
   "outputs": [],
   "source": [
    "import pygwalker as pyg"
   ]
  },
  {
   "cell_type": "code",
   "execution_count": null,
   "id": "e9695aa8",
   "metadata": {},
   "outputs": [],
   "source": [
    "# 경로설정\n",
    "import sys\n",
    "path = \"C:\\github/aide-analysis/\"\n",
    "path2 = 'C:\\github/aide-analysis/notebook/temp_ljs/Develop/지주리포트Lite/실거래 이상값 제거 연구 및 추론/모듈 및 압축파일 보관 폴더'\n",
    "sys.path.append(path)\n",
    "sys.path.append(path2)\n",
    "\n",
    "import os\n",
    "import sys\n",
    "from pathlib import Path\n",
    "sys.path.append(str(Path(os.getcwd())))\n",
    "# 한글폰트\n",
    "import os\n",
    "import matplotlib.pyplot as plt\n",
    "if os.name =='posix':\n",
    "    plt.rc('font',family = 'ApplGothic')\n",
    "else:\n",
    "    plt.rc('font',family = 'Malgun Gothic')\n",
    "    \n",
    "# 경고출력문 제거\n",
    "import warnings\n",
    "warnings.filterwarnings(\"ignore\")\n",
    "\n",
    "# 모듈 import\n",
    "import pandas as pd\n",
    "import src\n",
    "from src.openapi import KakaoLocalAPI as kakao\n",
    "from openpyxl import load_workbook\n",
    "from src.utils import insert_dataframe_to_excel_sheet\n",
    "from src.sql import DatabaseHandler\n",
    "from src.temp import *\n",
    "from datetime import datetime\n",
    "import datetime\n",
    "from dateutil.relativedelta import relativedelta\n",
    "from src.bigquery import BigqueryHandler\n",
    "import seaborn as sns\n",
    "import numpy as np\n",
    "import statistics\n",
    "from tqdm import tqdm\n",
    "import config\n",
    "from core.config import Config\n",
    "import json\n",
    "from datetime import datetime\n",
    "import geopandas as gpd\n",
    "from tqdm import tqdm\n",
    "import folium\n",
    "from src.bigquery import bigquery_client, bigquery\n",
    "import geopandas as gpd\n",
    "from shapely import wkt\n",
    "from openpyxl import load_workbook\n",
    "from src.utils import insert_dataframe_to_excel_sheet\n",
    "from openpyxl.utils.dataframe import dataframe_to_rows\n",
    "from difflib import SequenceMatcher\n",
    "import openpyxl\n",
    "import math\n",
    "from 실거래전처리 import TradeProcessing\n",
    "\n",
    "config = Config()\n",
    "BH = BigqueryHandler()\n",
    "\n",
    "\n",
    "# DataFrame 디스플레이 설정\n",
    "pd.set_option('display.max_columns', 250)\n",
    "pd.set_option('display.max_rows', 250)\n",
    "pd.set_option('display.width', 100)"
   ]
  },
  {
   "cell_type": "markdown",
   "id": "e76bfa74",
   "metadata": {},
   "source": [
    "# 지난달(23년01월)대비 이번달(23년02월) 매매가격이 떨어진 단지 찾기"
   ]
  },
  {
   "cell_type": "markdown",
   "id": "15e8d05d",
   "metadata": {},
   "source": [
    "- 타입별로 특수성이 있을 수 있기때문에 areaSixGroupNo 대신 pyeongNo를 기준으로 동 타입기준으로 가격비교 하기 -> 이렇게 했을때 문제가 없을지도 검증이 필요하다"
   ]
  },
  {
   "cell_type": "code",
   "execution_count": null,
   "id": "58aec2a2",
   "metadata": {},
   "outputs": [],
   "source": [
    "# sql = f\"\"\"\n",
    "\n",
    "# SELECT sigunguCode\n",
    "# FROM `aidepartners.aide.code_sigungu`\n",
    "# WHERE (isMulti = True AND guLevel = True AND siLevel = False) OR (isMulti = False AND guLevel = True AND siLevel = True)\n",
    "# \"\"\"\n",
    "# sigunguList = BH.read_table(sql)\n",
    "# sigunguList = list(sigunguList['sigunguCode'])"
   ]
  },
  {
   "cell_type": "code",
   "execution_count": null,
   "id": "6af9ce7d",
   "metadata": {},
   "outputs": [],
   "source": [
    "sql = f\"\"\"\n",
    "SELECT distinct sidoCode\n",
    "FROM `aidepartners.aide.code_sigungu`\n",
    "\"\"\"\n",
    "sidoList = BH.read_table(sql)\n",
    "sidoList = list(sidoList['sidoCode'])"
   ]
  },
  {
   "cell_type": "code",
   "execution_count": null,
   "id": "1a61f891",
   "metadata": {},
   "outputs": [],
   "source": [
    "sql =f\"\"\"\n",
    "SELECT T1.*\n",
    "FROM(\n",
    "    SELECT sidoCode,\n",
    "           complexNo, \n",
    "           complexName, \n",
    "           address,\n",
    "           areaSixGroupNo, \n",
    "           pyeongNo,\n",
    "           useApproveYear, \n",
    "           totalHouseholdCount, \n",
    "           tradeType, \n",
    "           jeonyongArea,\n",
    "           supplyArea,\n",
    "           contractDate, \n",
    "           averagePyeong, \n",
    "           averagePrice, \n",
    "           isFloor, \n",
    "           isProcessing1, \n",
    "           isProcessing2, \n",
    "           isProcessing3, \n",
    "           interpolate, \n",
    "           yearMonth, \n",
    "           isReal, \n",
    "           finalProcessing, \n",
    "           predict,\n",
    "           RANK() OVER(PARTITION BY complexNo, complexName, pyeongNo ORDER BY yearMonth DESC) AS rn -- 월 구분\n",
    "    FROM `aidepartners.raw.aide_apartment_price_origin`\n",
    "    WHERE -- sidoCode ='28'\n",
    "          -- sidoCode ='11' \n",
    "          (yearMonth >='2023-01-01' OR yearMonth <='2023-03-01')\n",
    "          AND isReal = True\n",
    "    ORDER BY complexNo, areaSixGRoupNo\n",
    "    ) AS T1\n",
    "\"\"\"\n",
    "dataframe = BH.read_table(sql)\n",
    "\n",
    "# 전달대비 하락한 지역 추론을 위한 데이터프레임 copy 및 전처리\n",
    "data = dataframe.copy()\n",
    "dropIdx = data[data['sidoCode'].isna()].index\n",
    "data = data.drop(index = dropIdx)"
   ]
  },
  {
   "cell_type": "code",
   "execution_count": null,
   "id": "c81cc8a9",
   "metadata": {},
   "outputs": [],
   "source": [
    "# 거래가 두달 연속 있는 단지중 전달대비 하락한 단지\n",
    "def findFallPrice(data):\n",
    "    result = pd.DataFrame()\n",
    "    for sido in sidoList:\n",
    "        df = data[data['sidoCode']==sido].reset_index(drop = True)\n",
    "        df_result = pd.DataFrame()\n",
    "        df_pecent = pd.DataFrame({'per':[]})\n",
    "        df_unique  = df[['complexNo','pyeongNo','jeonyongArea', 'supplyArea']].drop_duplicates().reset_index(drop =True)\n",
    "        for i in range(0, len(df_unique)):\n",
    "            cNo =df_unique['complexNo'].iloc[i]\n",
    "            typeOption = df_unique['pyeongNo'].iloc[i]\n",
    "            # 거래가 두달이상 연속으로 있는경우\n",
    "            if len(df.loc[(df['complexNo']==cNo)&(df['pyeongNo']==typeOption), 'rn'].unique()) >1:\n",
    "                # 최근거래과 과거거래 금액 차이 비교\n",
    "                recentPrice = df.loc[(df['complexNo']==cNo)&(df['pyeongNo']==typeOption)&(df['rn']==1),'averagePyeong'].mean()\n",
    "                pastPrice = df.loc[(df['complexNo']==cNo)&(df['pyeongNo']==typeOption)&(df['rn']==2),'averagePyeong'].mean()\n",
    "                price = pastPrice - recentPrice\n",
    "                per = recentPrice / pastPrice # 전달대비 현재 실거래 비율\n",
    "                if (price >0)&(per<=0.85) : # 전달 거래보다 싸게거래된 경우\n",
    "                    df_result = df_result.append(df[(df['complexNo']==cNo)&(df['pyeongNo']==typeOption)])\n",
    "                    if i ==0:\n",
    "                        df_result['per'] = ''\n",
    "                    df_result.loc[(df_result['complexNo']==cNo)&(df_result['pyeongNo']==typeOption),'per'] = per\n",
    "\n",
    "                    # 결과테이블 세팅\n",
    "                    df_result = df_result[['complexNo','complexName','address','pyeongNo','jeonyongArea', 'supplyArea','per']].drop_duplicates(subset = ['complexNo','pyeongNo']).sort_values(by = 'per')\n",
    "                    df_result['per'] =  round(df_result['per'], 2)\n",
    "\n",
    "                    # 컬럼정리\n",
    "                    df_report = df_result.rename(columns = {'complexName':'단지명',\n",
    "                                                            'pyeongNo':'면적타입',\n",
    "                                                            'address':'주소',\n",
    "                                                            'jeonyongArea':'전용면적',\n",
    "                                                            'supplyArea':'공급면적',\n",
    "                                                            'per':'전달 대비 실거래 가격'}).reset_index(drop = True)\n",
    "                    result = result.append(df_report)\n",
    "    result = result.reset_index(drop = True).sort_values(by = '전달 대비 실거래 가격')\n",
    "    result = result.drop_duplicates(subset = ['단지명','면적타입']).reset_index(drop = True)\n",
    "    return result"
   ]
  },
  {
   "cell_type": "code",
   "execution_count": null,
   "id": "a528fece",
   "metadata": {
    "scrolled": true
   },
   "outputs": [],
   "source": [
    "result = findFallPrice(data)"
   ]
  },
  {
   "cell_type": "code",
   "execution_count": null,
   "id": "61e37768",
   "metadata": {},
   "outputs": [],
   "source": [
    "df_info = result[['complexNo','면적타입']].rename(columns = {'면적타입':'pyeongNo'})\n",
    "sql =f\"\"\"\n",
    "SELECT T1.*\n",
    "FROM(\n",
    "    SELECT sidoCode,\n",
    "           complexNo, \n",
    "           complexName, \n",
    "           address,\n",
    "           areaSixGroupNo, \n",
    "           pyeongNo,\n",
    "           useApproveYear, \n",
    "           totalHouseholdCount, \n",
    "           tradeType, \n",
    "           jeonyongArea,\n",
    "           supplyArea,\n",
    "           contractDate, \n",
    "           averagePyeong, \n",
    "           averagePrice, \n",
    "           isFloor, \n",
    "           isProcessing1, \n",
    "           isProcessing2, \n",
    "           isProcessing3, \n",
    "           interpolate, \n",
    "           yearMonth, \n",
    "           isReal, \n",
    "           finalProcessing, \n",
    "           predict\n",
    "    FROM `aidepartners.raw.aide_apartment_price_origin`\n",
    "    WHERE yearMonth >='2021-01-01' \n",
    "          AND isReal = True\n",
    "          AND complexNo in {tuple(df_info['complexNo'].unique())}\n",
    "    ORDER BY complexNo, areaSixGRoupNo\n",
    "df_info = result[['complexNo','면적타입']].rename(columns = {'면적타입':'pyeongNo'})    ) AS T1\n",
    "\"\"\"\n",
    "df_new = BH.read_table(sql)"
   ]
  },
  {
   "cell_type": "code",
   "execution_count": null,
   "id": "ba896438",
   "metadata": {
    "scrolled": true
   },
   "outputs": [],
   "source": [
    "# # 최근하락한 단지의 최근2년 실거래 변동 확인\n",
    "# for i in range(0, len(df_info)):\n",
    "    \n",
    "#     cNo = df_info['complexNo'].iloc[i]\n",
    "#     pyeong = df_info['pyeongNo'].iloc[i]\n",
    "    \n",
    "#     # 단지-타입 특정 \n",
    "#     df_unique = df_new[(df_new['complexNo']==cNo)&(df_new['pyeongNo']==pyeong)]\n",
    "    \n",
    "#     # 차트 제목에 사용할 파라미터 저장\n",
    "#     danjiName = df_unique['complexName'].unique()\n",
    "#     jeonyong = df_unique['jeonyongArea'].unique()\n",
    "    \n",
    "#     # 시각화\n",
    "#     ## 실제값 필터\n",
    "#     df_real = df_unique[df_unique['isReal']==True].reset_index(drop = True)\n",
    "#     plt.figure(figsize = (12, 5))\n",
    "#     sns.scatterplot(df_real['yearMonth'], df_real['averagePyeong'])\n",
    "#     plt.title(f\"단지명 : {danjiName}, 전용면적 : {jeonyong}\")\n",
    "#     plt.show()"
   ]
  },
  {
   "cell_type": "markdown",
   "id": "bb611618",
   "metadata": {},
   "source": [
    "# 전세가율"
   ]
  },
  {
   "cell_type": "markdown",
   "id": "3ec738f9",
   "metadata": {},
   "source": [
    "최근주만 사용할 경우 시세가 없는단지가 있음 "
   ]
  },
  {
   "cell_type": "code",
   "execution_count": null,
   "id": "730fb58d",
   "metadata": {},
   "outputs": [],
   "source": [
    "sql = f\"\"\"\n",
    "SELECT CASE WHEN provider = 'kab' THEN max(baseYearMonthDay) END AS kab,\n",
    "       CASE WHEN provider = 'kbstar' THEN max(baseYearMonthDay) END AS kbstar,\n",
    "       CASE WHEN provider = 'neonet' THEN max(baseYearMonthDay) END AS neonet\n",
    "        \n",
    "FROM `aidepartners.aide.complex_market_price`\n",
    "GROUP BY provider\n",
    "\"\"\"\n",
    "time = BH.read_table(sql)\n",
    "time"
   ]
  },
  {
   "cell_type": "code",
   "execution_count": null,
   "id": "3c73db2b",
   "metadata": {},
   "outputs": [],
   "source": [
    "day1 = time['kab'].dropna().iloc[0]\n",
    "day2 = time['kbstar'].dropna().iloc[0]\n",
    "day3 = time['neonet'].dropna().iloc[0]"
   ]
  },
  {
   "cell_type": "code",
   "execution_count": null,
   "id": "36550cf3",
   "metadata": {},
   "outputs": [],
   "source": [
    "day = time.iloc[0][0]"
   ]
  },
  {
   "cell_type": "code",
   "execution_count": null,
   "id": "fcfdf130",
   "metadata": {},
   "outputs": [],
   "source": [
    "sql = f\"\"\"\n",
    "SELECT danji.sidoCode,\n",
    "       danji.sigunguCode,\n",
    "       market.complexNo,\n",
    "       danji.complexName,\n",
    "       danji.sigunguName,\n",
    "       detailAddress,\n",
    "       market.areaNo,\n",
    "       area.jeonyongArea,\n",
    "       area.supplyArea,\n",
    "       market.dealAveragePrice,\n",
    "       market.leaseAveragePrice,\n",
    "       market.leaseAveragePrice/market.dealAveragePrice AS ratio\n",
    "FROM `aidepartners.aide.complex_market_price` AS market\n",
    "LEFT JOIN (SELECT sidoCode,sigunguCode, complexNo, complexName, sigunguName, detailAddress FROM `aidepartners.aide.complex_danji_information`) AS danji ON market.complexNo = danji.complexNo\n",
    "LEFT JOIN (SELECT complexNo, pyeongNo, jeonyongArea, supplyArea FROM `aidepartners.aide.complex_area_information_prod`) AS area ON market.complexNo =area.complexNo AND market.areaNo = area.pyeongNo\n",
    "WHERE market.baseYearMonthDay = \"{day}\"\n",
    "\"\"\"\n",
    "df_ratio = BH.read_table(sql)"
   ]
  },
  {
   "cell_type": "code",
   "execution_count": null,
   "id": "af6bf9a3",
   "metadata": {},
   "outputs": [],
   "source": [
    "df_ratio[(df_ratio['sidoCode']=='11')&(-df_ratio['complexName'].str.contains('도시형'))&(-df_ratio['complexName'].str.contains('주상복합'))].sort_values(by = 'ratio',ascending = False).head(200)[['complexName','sigunguName','jeonyongArea','supplyArea','ratio']].reset_index(drop = True)"
   ]
  },
  {
   "cell_type": "markdown",
   "id": "714555b3",
   "metadata": {},
   "source": [
    "# 오피스텔 유사단지의 광역비교"
   ]
  },
  {
   "cell_type": "code",
   "execution_count": null,
   "id": "a2b738c1",
   "metadata": {},
   "outputs": [],
   "source": [
    "sql = f\"\"\"\n",
    "SELECT danji.complexNo,\n",
    "       danji.complexName,\n",
    "       danji.sidoCode,\n",
    "       danji.sigunguCode,\n",
    "       danji.bdongCode,\n",
    "       danji.sigunguName,\n",
    "       danji.bdongName,\n",
    "       danji.totalHouseholdCount,\n",
    "       danji.useApproveYear,\n",
    "       danji.batlRatio,\n",
    "       danji.btlRatio,\n",
    "       danji.parkingPossibleCount,\n",
    "       danji.parkingCountByHousehold,\n",
    "       danji.HeatMethodTypeName,\n",
    "       danji.HeatFuelTypeName,\n",
    "       area.supplyArea,\n",
    "       area.jeonyongArea,\n",
    "       area.roomCount,\n",
    "       area.entranceType,\n",
    "       area.areaSixGroupNo,\n",
    "       price.tradeType,\n",
    "       price.tradeYear,\n",
    "       price.tradeMonth,\n",
    "       price.contractDate,\n",
    "       price.dealPrice,\n",
    "       price.leasePrice,\n",
    "       price.rentPrice,\n",
    "       price.floor\n",
    "FROM `aidepartners.aide.complex_danji_information` AS danji\n",
    "\n",
    "LEFT JOIN (\n",
    "           SELECT complexNo, \n",
    "                  pyeongNo,\n",
    "                  supplyArea,\n",
    "                  jeonyongArea,\n",
    "                  roomCount,\n",
    "                  entranceType,\n",
    "                  areaSixGroupNo          \n",
    "           FROM `aidepartners.aide.complex_area_information_prod`\n",
    "           ) AS area \n",
    "           ON danji.complexNo = area.complexNo\n",
    "           \n",
    "LEFT JOIN (\n",
    "           SELECT complexNo, \n",
    "                  areaNo,\n",
    "                  tradeType,\n",
    "                  tradeYear,\n",
    "                  tradeMonth,\n",
    "                  contractDate,\n",
    "                  dealPrice,\n",
    "                  leasePrice,\n",
    "                  rentPrice,\n",
    "                  floor,\n",
    "           FROM `aidepartners.aide.complex_real_price_prod`\n",
    "           WHERE deleteYn is null\n",
    "           ) AS price \n",
    "           ON area.complexNo = price.complexNo \n",
    "              AND area.pyeongNo = price.areaNo\n",
    "WHERE danji.realEstateTypeCode = 'OPST' AND danji.sidoCode = '41'\n",
    "\n",
    "\n",
    "\n",
    "\"\"\"\n",
    "df = BH.read_table(sql)"
   ]
  },
  {
   "cell_type": "code",
   "execution_count": null,
   "id": "2f2c85bc",
   "metadata": {},
   "outputs": [],
   "source": [
    "# \n",
    "df[(df['sigunguCode']=='41117')&(df['bdongName']=='이의동')].sort_values(by =['complexNo','jeonyongArea'])"
   ]
  },
  {
   "cell_type": "code",
   "execution_count": null,
   "id": "1a6f7857",
   "metadata": {
    "scrolled": true
   },
   "outputs": [],
   "source": [
    "df[(df['sigunguCode']=='11500')&(df['bdongName']=='마곡동')].reset_index(drop = True).sort_values(by = ['complexNo','tradeYear'],ascending = False)"
   ]
  },
  {
   "cell_type": "markdown",
   "id": "4861ba61",
   "metadata": {},
   "source": [
    "# 아파트 지역별 시세 조사"
   ]
  },
  {
   "cell_type": "markdown",
   "id": "415ff8c6",
   "metadata": {},
   "source": [
    "- type : 59/ 84\n",
    "    - 59 : A2\n",
    "    - 84 : A3\n",
    "\n",
    "- sedaeCount  \n",
    "    - 300이상\n",
    "    - 2000 이상\n",
    "\n",
    "- useApproveYear \n",
    "    - new : ~ 5년\n",
    "    - general : 6년 ~ 20년\n",
    "    - old :20년 ~"
   ]
  },
  {
   "cell_type": "code",
   "execution_count": null,
   "id": "c30e8539",
   "metadata": {},
   "outputs": [],
   "source": [
    "sql = f\"\"\"\n",
    "SELECT CASE WHEN provider = 'kab' THEN max(baseYearMonthDay) END AS kab,\n",
    "       CASE WHEN provider = 'kbstar' THEN max(baseYearMonthDay) END AS kbstar,\n",
    "       CASE WHEN provider = 'neonet' THEN max(baseYearMonthDay) END AS neonet\n",
    "        \n",
    "FROM `aidepartners.aide.complex_market_price`\n",
    "GROUP BY provider\n",
    "\"\"\"\n",
    "time = BH.read_table(sql)\n",
    "time"
   ]
  },
  {
   "cell_type": "code",
   "execution_count": null,
   "id": "3b12d7b7",
   "metadata": {},
   "outputs": [],
   "source": [
    "day1 = time['kab'].dropna().iloc[0]\n",
    "day2 = time['kbstar'].dropna().iloc[0]\n",
    "day3 = time['neonet'].dropna().iloc[0]"
   ]
  },
  {
   "cell_type": "code",
   "execution_count": null,
   "id": "87a75ae9",
   "metadata": {},
   "outputs": [],
   "source": [
    "sql = f\"\"\"\n",
    "SELECT danji.sidoCode,\n",
    "       danji.sigunguCode,\n",
    "       market.complexNo,\n",
    "       danji.complexName,\n",
    "       danji.sigunguName,\n",
    "       detailAddress,\n",
    "       market.areaNo,\n",
    "       area.jeonyongArea,\n",
    "       area.supplyArea,\n",
    "       area.supplyPyeong,\n",
    "       area.jeonyongPyeong,\n",
    "       market.dealAveragePrice * 10000 AS dealAveragePrice,\n",
    "       market.leaseAveragePrice * 10000 AS leaseAveragePrice,\n",
    "       (market.dealAveragePrice * 10000)/ area.supplyPyeong AS dealAveragePricePerSupplyPyeong,\n",
    "       (market.dealAveragePrice * 10000)/ area.jeonyongPyeong AS dealAveragePricePerJeonyongPyeong,\n",
    "       market.leaseAveragePrice/market.dealAveragePrice AS ratio\n",
    "       \n",
    "FROM `aidepartners.aide.complex_market_price` AS market\n",
    "LEFT JOIN (SELECT sidoCode,sigunguCode, complexNo, complexName, sigunguName, detailAddress FROM `aidepartners.aide.complex_danji_information`) AS danji ON market.complexNo = danji.complexNo\n",
    "LEFT JOIN (SELECT complexNo, pyeongNo, jeonyongArea, supplyArea,jeonyongPyeong, supplyPyeong FROM `aidepartners.aide.complex_area_information_prod`) AS area ON market.complexNo =area.complexNo AND market.areaNo = area.pyeongNo\n",
    "WHERE market.baseYearMonthDay in (\"{day1}\",\"{day2}\",\"{day3}\")\n",
    "\"\"\"\n",
    "df =BH.read_table(sql)"
   ]
  },
  {
   "cell_type": "code",
   "execution_count": null,
   "id": "26596b8e",
   "metadata": {},
   "outputs": [],
   "source": [
    "gdf = pyg.walk(df)"
   ]
  },
  {
   "cell_type": "code",
   "execution_count": null,
   "id": "7e4f9d7c",
   "metadata": {
    "scrolled": true
   },
   "outputs": [],
   "source": [
    "df[df['sidoCode']=='11'].drop_duplicates(subset = 'complexNo').reset_index(drop = True)['dealAveragePricePerSupplyPyeong'].mean()"
   ]
  },
  {
   "cell_type": "code",
   "execution_count": null,
   "id": "61883d1a",
   "metadata": {},
   "outputs": [],
   "source": [
    "df[(df['sidoCode']=='11')&(-df['complexName'].str.contains('도시형'))&(-df['complexName'].str.contains('주상복합'))].drop_duplicates(subset = 'complexNo').reset_index(drop = True).sort_values(by = 'ratio',ascending = False)"
   ]
  },
  {
   "cell_type": "markdown",
   "id": "12e2331e",
   "metadata": {},
   "source": [
    "# 아파트 가격추이"
   ]
  },
  {
   "cell_type": "code",
   "execution_count": null,
   "id": "8286c5de",
   "metadata": {},
   "outputs": [],
   "source": [
    "startYear = datetime.now()-relativedelta(years = 5)"
   ]
  },
  {
   "cell_type": "code",
   "execution_count": null,
   "id": "cb6ff8a5",
   "metadata": {},
   "outputs": [],
   "source": [
    "class apartTimePrice():\n",
    "    def __init__(self, sido, sigungu, name):\n",
    "        \"\"\"검색하고자 하는 시도명, 시군구명, 단지명을 입력받는다.\"\"\"\n",
    "        self.sido = sido\n",
    "        self.sigungu = sigungu\n",
    "        self.name = name\n",
    "\n",
    "        \n",
    "        \n",
    "    def extractCode(self):\n",
    "        \"\"\"지역 코드 추출\"\"\"        \n",
    "        sql = f\"\"\"\n",
    "        SELECT sidoCode,\n",
    "               sigunguCode,\n",
    "        FROM `aidepartners.aide.code_sigungu`\n",
    "        WHERE sidoName LIKE '%{self.sido}%'\n",
    "              AND sigunguName LIKE '%{self.sigungu}%'\n",
    "              AND ((isMulti = True AND guLevel = True AND siLevel = False) OR (isMulti = False AND guLevel = True AND siLevel = True))\n",
    "        \"\"\"\n",
    "        code_data = BH.read_table(sql)\n",
    "        if len(code_data) >1:\n",
    "            raise Exception('입력받은 시도,시군구의 코드가 중복이 있습니다. 확인해 주세요') \n",
    "            \n",
    "        else:\n",
    "            sidoCode = code_data['sidoCode'][0]\n",
    "            sigunguCode = code_data['sigunguCode'][0]\n",
    "            \n",
    "        return sidoCode, sigunguCode\n",
    "        \n",
    "        \n",
    "    def extractDanjiName(self,sidoCode, sigunguCode):\n",
    "        \"\"\"단지 특정 및 추출\"\"\"\n",
    "\n",
    "        sql = f\"\"\"\n",
    "        SELECT complexNo, \n",
    "               complexName,\n",
    "               address\n",
    "        FROM `aidepartners.aide.complex_danji_information`\n",
    "        WHERE sidoCode = \"{sidoCode}\"\n",
    "              AND sigunguCode = \"{sigunguCode}\"\n",
    "              AND complexName LIKE '%{self.name}%'        \n",
    "        \"\"\"\n",
    "        danji_data = BH.read_table(sql)\n",
    "        if len(danji_data) > 1:\n",
    "            print('중복되는 단지들이 있습니다. 단지를 선택해주세요')\n",
    "            print('-'*130)\n",
    "            print('단지목록 : ',list(danji_data['complexName'].unique()))  \n",
    "            print('-'*130)\n",
    "            print('주소목록 : ',list(danji_data['address'].unique()))\n",
    "            print('-'*130)\n",
    "            answerName = input('앞에서 출력된 단지들중 해당하는 단지를 정확하게 입력해 주세요 : ')\n",
    "            answerAddress = input('앞에서 출력된 주소중 해당하는 단지의 주소를 정확하게 입력해 주세요 : ')\n",
    "            cNo = danji_data.loc[(danji_data['complexName']==answerName)&(danji_data['address']==answerAddress),'complexNo'].reset_index(drop = True)[0]\n",
    "       \n",
    "        else:\n",
    "            answerName = danji_data['complexName'].reset_index(drop = True)[0]\n",
    "            cNo = danji_data.loc[danji_data['complexName']==answerName,'complexNo'][0]\n",
    "            \n",
    "            \n",
    "        return cNo\n",
    "    \n",
    "    \n",
    "    def extractTargetPrice(self):\n",
    "        \"\"\"기준단지의 시계열 가격 데이터 추출\"\"\"\n",
    "        \n",
    "        # 시도, 시군구 코드 추출\n",
    "        sidoCode, sigunguCode = self.extractCode()\n",
    "        \n",
    "        # 단지명 추출\n",
    "        cNo = self.extractDanjiName(sidoCode, sigunguCode)\n",
    "        \n",
    "    \n",
    "        # 타겟 단지의 실거래 시계열데이터 프레임 추출\n",
    "        \"\"\"입력받은 단지에 해당하는 실거래 시계열데이터 반환함수\"\"\"\n",
    "        sql = f\"\"\"\n",
    "        SELECT *\n",
    "        FROM `aidepartners.aide.aide_apartment_price_origin`\n",
    "        WHERE complexNo = \"{cNo}\"\n",
    "        \"\"\"\n",
    "        df_target = BH.read_table(sql)\n",
    "\n",
    "        if len(df_target) == 0:\n",
    "            print('단지를 찾지못했습니다.')\n",
    "        else:\n",
    "            bdongCode = df_target['bdongCode'].iloc[0]\n",
    "            \n",
    "        df_target['yearMonth'] =pd.to_datetime(df_target['yearMonth'])\n",
    "        return df_target, bdongCode\n",
    "    \n",
    "    def recentPrice(self):\n",
    "        df_target, bdongCode = self.extractTargetPrice()\n",
    "        startyear = datetime.now()-relativedelta(years = 5)\n",
    "        sql = f\"\"\"\n",
    "        SELECT *\n",
    "        FROM `aideprtners.aide.aide_apartment_price_origin`\n",
    "        WHERE sidoCode LIKE '{bdongCode[:2]}%'\n",
    "              AND isReal = True\n",
    "              AND yearMonth >={startYear}\n",
    "        \"\"\"\n",
    "        df_sido = BH.read_table(sql)\n",
    "        \n",
    "        pass\n",
    "#         BH.read_table(sql)\n",
    "    \n",
    "    \n",
    "        \n"
   ]
  },
  {
   "cell_type": "code",
   "execution_count": null,
   "id": "60664c16",
   "metadata": {},
   "outputs": [],
   "source": [
    "startyear = datetime.now()-relativedelta(years = 5)\n",
    "sql = f\"\"\"\n",
    "SELECT complexName, \n",
    "       bdongCode, \n",
    "       useApproveYear, \n",
    "       pyeongNo, \n",
    "       jeonyongPyeong, \n",
    "       supplyPyeong, \n",
    "       areaSixGroupNo, \n",
    "       averagePyeong, \n",
    "       averagePrice,\n",
    "       contractDate,\n",
    "       yearMonth\n",
    "FROM `aidepartners.aide.aide_apartment_price_origin`\n",
    "WHERE sidoCode LIKE '31%'\n",
    "      AND (isReal = True OR interpolate  = True)\n",
    "      AND yearMonth >=\"{pd.to_datetime(startYear).date()}\"\n",
    "\"\"\"\n",
    "df_total = BH.read_table(sql )"
   ]
  },
  {
   "cell_type": "code",
   "execution_count": null,
   "id": "2f2ff1e4",
   "metadata": {},
   "outputs": [],
   "source": [
    "df_total['areaSixGroupNo'].unique()"
   ]
  },
  {
   "cell_type": "code",
   "execution_count": null,
   "id": "02095602",
   "metadata": {
    "scrolled": true
   },
   "outputs": [],
   "source": [
    "# sns.lineplot(df_target.loc[df_target['isReal']==True,'yearMonth'], df_target.loc[df_target['isReal']==True,'averagePyeong'], hue = df_target['areaSixGroupNo'])\n",
    "# df_total[df_total['bdongCode']==bdongCode].groupby('yearMonth')['averagePyeong'].mean().reset_index().plot(color = 'red')\n",
    "# df_total[df_total['bdongCode'].str.contains(bdongCode[:5])].groupby('yearMonth')['averagePyeong'].mean().reset_index().plot(color = 'blue')\n",
    "# df_total[df_total['bdongCode'].str.contains(bdongCode[:2])].groupby('yearMonth')['averagePyeong'].mean().reset_index().plot(color = 'gray')"
   ]
  },
  {
   "cell_type": "code",
   "execution_count": null,
   "id": "0b062b6e",
   "metadata": {
    "scrolled": true
   },
   "outputs": [],
   "source": [
    "ATP = apartTimePrice(\"서울\", \"강서구\", \"엠밸리\")\n",
    "df_target,bdongCode =ATP.extractTargetPrice()"
   ]
  },
  {
   "cell_type": "code",
   "execution_count": null,
   "id": "0347f289",
   "metadata": {},
   "outputs": [],
   "source": [
    "df_sido"
   ]
  },
  {
   "cell_type": "code",
   "execution_count": null,
   "id": "8271c2f6",
   "metadata": {},
   "outputs": [],
   "source": [
    "# plt.figure(figsize = (12, 5))\n",
    "# sns.scatterplot(df_target.loc[(df_target['isReal']==True)|(df_target['predict']==True),'contractDate'], df_target.loc[(df_target['isReal']==True)|(df_target['predict']==True),'averagePyeong'], hue = df_target['areaSixGroupNo'])"
   ]
  },
  {
   "cell_type": "code",
   "execution_count": null,
   "id": "07efa297",
   "metadata": {},
   "outputs": [],
   "source": [
    "plt.figure(figsize = (12, 5))\n",
    "sns.scatterplot(df_target.loc[(df_target['isReal']==True)|(df_target['predict']==True),'contractDate'], df_target.loc[(df_target['isReal']==True)|(df_target['predict']==True),'averagePyeong'], hue = df_target['predict'])"
   ]
  },
  {
   "cell_type": "code",
   "execution_count": null,
   "id": "c92d3c69",
   "metadata": {},
   "outputs": [],
   "source": [
    "sql = f\"\"\"\n",
    "SELECT *\n",
    "FROM `aidepartners.aide.aide_apartment_price_origin`\n",
    "WHERE sidoCode LIKE '11%'\n",
    "      AND isReal = True\n",
    "      AND yearMonth >='2018-03-01'\n",
    "\"\"\"\n",
    "df_sido = BH.read_table(sql)"
   ]
  },
  {
   "cell_type": "code",
   "execution_count": null,
   "id": "34f0a8fd",
   "metadata": {},
   "outputs": [],
   "source": [
    "test = df_sido.groupby('yearMonth')['averagePyeong'].mean().reset_index()\n",
    "test2 = df_sido[df_sido['sigunguCode']=='11500'].groupby('yearMonth')['averagePyeong'].mean().reset_index()\n",
    "test3 = df_sido[df_sido['bdongCode']=='1150010500'].groupby('yearMonth')['averagePyeong'].mean().reset_index()\n",
    "test4 = df_sido[df_sido['sigunguCode']=='11710'].groupby('yearMonth')['averagePyeong'].mean().reset_index()\n",
    "test5 = df_sido[df_sido['bdongCode']=='1171010100'].groupby('yearMonth')['averagePyeong'].mean().reset_index()"
   ]
  },
  {
   "cell_type": "code",
   "execution_count": null,
   "id": "3f1ca05b",
   "metadata": {},
   "outputs": [],
   "source": [
    "df_target[(df_target['isReal']==True)&(df_target['yearMonth']>='2020-01-01')].sort_values(by ='yearMonth')"
   ]
  },
  {
   "cell_type": "code",
   "execution_count": null,
   "id": "ad64e35b",
   "metadata": {},
   "outputs": [],
   "source": [
    "plt.figure(figsize = (14, 5))\n",
    "sns.scatterplot(test['yearMonth'], test['averagePyeong'], label = '서울')\n",
    "sns.scatterplot(test2['yearMonth'], test2['averagePyeong'], label = '강서구')\n",
    "sns.scatterplot(test3['yearMonth'], test3['averagePyeong'], label = '마곡동')\n",
    "sns.scatterplot(df_target.loc[((df_target['isReal']==True)|(df_target['predict']==True)|(df_target['predict']==True))&(df_target['yearMonth']>='2018-03-01')&(df_target['areaSixGroupNo']=='A3'),'yearMonth'], df_target.loc[((df_target['isReal']==True)|(df_target['predict']==True))&(df_target['yearMonth']>='2018-03-01')&(df_target['areaSixGroupNo']=='A3'),'averagePyeong'],label = '엠밸리')"
   ]
  }
 ],
 "metadata": {
  "kernelspec": {
   "display_name": "jupyter",
   "language": "python",
   "name": "jupyter"
  },
  "language_info": {
   "codemirror_mode": {
    "name": "ipython",
    "version": 3
   },
   "file_extension": ".py",
   "mimetype": "text/x-python",
   "name": "python",
   "nbconvert_exporter": "python",
   "pygments_lexer": "ipython3",
   "version": "3.10.4"
  },
  "toc": {
   "base_numbering": 1,
   "nav_menu": {},
   "number_sections": true,
   "sideBar": true,
   "skip_h1_title": false,
   "title_cell": "Table of Contents",
   "title_sidebar": "Contents",
   "toc_cell": false,
   "toc_position": {
    "height": "calc(100% - 180px)",
    "left": "10px",
    "top": "150px",
    "width": "236.275px"
   },
   "toc_section_display": true,
   "toc_window_display": false
  }
 },
 "nbformat": 4,
 "nbformat_minor": 5
}
